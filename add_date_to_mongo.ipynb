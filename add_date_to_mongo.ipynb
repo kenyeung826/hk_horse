{
 "cells": [
  {
   "cell_type": "code",
   "execution_count": 1,
   "id": "ea3e6e71",
   "metadata": {},
   "outputs": [],
   "source": [
    "from selenium.webdriver.chrome.options import Options\n",
    "chrome_options = Options() # 啟動無頭模式\n",
    "chrome_options.add_argument('--headless')  #規避google bug\n",
    "chrome_options.add_argument('--disable-gpu')"
   ]
  },
  {
   "cell_type": "code",
   "execution_count": 2,
   "id": "7706f7bf",
   "metadata": {
    "scrolled": true
   },
   "outputs": [
    {
     "name": "stderr",
     "output_type": "stream",
     "text": [
      "\n",
      "\n",
      "====== WebDriver manager ======\n",
      "Current google-chrome version is 106.0.5249\n",
      "Get LATEST chromedriver version for 106.0.5249 google-chrome\n",
      "There is no [win32] chromedriver for browser 106.0.5249 in cache\n",
      "Trying to download new driver from https://chromedriver.storage.googleapis.com/106.0.5249.61/chromedriver_win32.zip\n",
      "Driver has been saved in cache [C:\\Users\\kenyeung\\.wdm\\drivers\\chromedriver\\win32\\106.0.5249.61]\n"
     ]
    }
   ],
   "source": [
    "from selenium import webdriver\n",
    "from webdriver_manager.chrome import ChromeDriverManager\n",
    "from selenium.webdriver.chrome.service import Service\n",
    "#driver = webdriver.Chrome(service=Service(ChromeDriverManager().install()), options=chrome_options)\n",
    "driver = webdriver.Chrome(service=Service(ChromeDriverManager().install()))\n",
    "url = 'https://racing.hkjc.com/racing/information/Chinese/racing/LocalResults.aspx'\n",
    "driver.get(url)"
   ]
  },
  {
   "cell_type": "code",
   "execution_count": 3,
   "id": "80187009",
   "metadata": {},
   "outputs": [],
   "source": [
    "from selenium.webdriver.common.by import By\n",
    "selectId = driver.find_element(By.ID, \"selectId\")"
   ]
  },
  {
   "cell_type": "code",
   "execution_count": 4,
   "id": "d2fdb215",
   "metadata": {},
   "outputs": [],
   "source": [
    "def save_date_to_mongo(date_str):\n",
    "    import pymongo\n",
    "    from datetime import datetime\n",
    "    with pymongo.MongoClient(\"mongodb://localhost:27017/\") as connection:\n",
    "        db = connection[\"horse\"]\n",
    "        col = db[\"match_date\"]\n",
    "        converted_date = datetime.strptime(date_str, '%d/%m/%Y')                \n",
    "     \n",
    "        x = col.update_one({\"date_str\":date_str}, {\"$set\":{\n",
    "            \"date\": converted_date,\n",
    "            \"date_str\": date_str\n",
    "        }}, upsert= True)  "
   ]
  },
  {
   "cell_type": "code",
   "execution_count": 5,
   "id": "0dc6aeed",
   "metadata": {},
   "outputs": [],
   "source": [
    "from selenium.webdriver.remote.webelement import WebElement\n",
    "date_options = selectId.find_elements(By.TAG_NAME, \"option\")\n",
    "for idx, option in enumerate(date_options):    \n",
    "    value=option.get_attribute(\"value\")\n",
    "    save_date_to_mongo(value)\n",
    "    #from selenium.webdriver.support.ui import Select\n",
    "    #select = Select(date)          \n",
    "    #select.select_by_value(value)\n",
    "    #submitBtn = driver.find_element(By.ID, \"submitBtn\")\n",
    "    #submitBtn.click()\n",
    "    #break   \n",
    "    "
   ]
  },
  {
   "cell_type": "code",
   "execution_count": 6,
   "id": "7ec0b60e",
   "metadata": {},
   "outputs": [],
   "source": [
    "driver.quit()"
   ]
  },
  {
   "cell_type": "code",
   "execution_count": null,
   "id": "b30ef90f",
   "metadata": {},
   "outputs": [],
   "source": []
  }
 ],
 "metadata": {
  "kernelspec": {
   "display_name": "Python 3 (ipykernel)",
   "language": "python",
   "name": "python3"
  },
  "language_info": {
   "codemirror_mode": {
    "name": "ipython",
    "version": 3
   },
   "file_extension": ".py",
   "mimetype": "text/x-python",
   "name": "python",
   "nbconvert_exporter": "python",
   "pygments_lexer": "ipython3",
   "version": "3.9.7"
  }
 },
 "nbformat": 4,
 "nbformat_minor": 5
}
